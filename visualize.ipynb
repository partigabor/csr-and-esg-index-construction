{
 "cells": [
  {
   "cell_type": "code",
   "execution_count": 1,
   "metadata": {},
   "outputs": [],
   "source": [
    "import pandas as pd\n",
    "import plotly.express as px\n"
   ]
  },
  {
   "cell_type": "code",
   "execution_count": 2,
   "metadata": {},
   "outputs": [
    {
     "data": {
      "text/html": [
       "<div>\n",
       "<style scoped>\n",
       "    .dataframe tbody tr th:only-of-type {\n",
       "        vertical-align: middle;\n",
       "    }\n",
       "\n",
       "    .dataframe tbody tr th {\n",
       "        vertical-align: top;\n",
       "    }\n",
       "\n",
       "    .dataframe thead th {\n",
       "        text-align: right;\n",
       "    }\n",
       "</style>\n",
       "<table border=\"1\" class=\"dataframe\">\n",
       "  <thead>\n",
       "    <tr style=\"text-align: right;\">\n",
       "      <th></th>\n",
       "      <th>diversity</th>\n",
       "      <th>equity</th>\n",
       "      <th>inclusion</th>\n",
       "      <th>document_length</th>\n",
       "      <th>firm_id</th>\n",
       "      <th>time</th>\n",
       "    </tr>\n",
       "  </thead>\n",
       "  <tbody>\n",
       "    <tr>\n",
       "      <th>0</th>\n",
       "      <td>2.4998</td>\n",
       "      <td>4.6166</td>\n",
       "      <td>1.9578</td>\n",
       "      <td>4188.0</td>\n",
       "      <td>Alexander &amp; Baldwin Inc</td>\n",
       "      <td>2005</td>\n",
       "    </tr>\n",
       "    <tr>\n",
       "      <th>1</th>\n",
       "      <td>1.8611</td>\n",
       "      <td>13.9687</td>\n",
       "      <td>1.3933</td>\n",
       "      <td>3651.0</td>\n",
       "      <td>GCI Liberty Inc (Pre-Reincorporation)</td>\n",
       "      <td>2017</td>\n",
       "    </tr>\n",
       "    <tr>\n",
       "      <th>2</th>\n",
       "      <td>1.7984</td>\n",
       "      <td>4.7317</td>\n",
       "      <td>2.7586</td>\n",
       "      <td>4846.0</td>\n",
       "      <td>ODP Corp</td>\n",
       "      <td>2005</td>\n",
       "    </tr>\n",
       "    <tr>\n",
       "      <th>3</th>\n",
       "      <td>2.0576</td>\n",
       "      <td>3.3122</td>\n",
       "      <td>2.1062</td>\n",
       "      <td>4033.0</td>\n",
       "      <td>ODP Corp</td>\n",
       "      <td>2005</td>\n",
       "    </tr>\n",
       "    <tr>\n",
       "      <th>4</th>\n",
       "      <td>2.0831</td>\n",
       "      <td>3.2115</td>\n",
       "      <td>2.9858</td>\n",
       "      <td>3810.0</td>\n",
       "      <td>ODP Corp</td>\n",
       "      <td>2005</td>\n",
       "    </tr>\n",
       "    <tr>\n",
       "      <th>...</th>\n",
       "      <td>...</td>\n",
       "      <td>...</td>\n",
       "      <td>...</td>\n",
       "      <td>...</td>\n",
       "      <td>...</td>\n",
       "      <td>...</td>\n",
       "    </tr>\n",
       "    <tr>\n",
       "      <th>95</th>\n",
       "      <td>1.9725</td>\n",
       "      <td>5.9412</td>\n",
       "      <td>2.4686</td>\n",
       "      <td>4357.0</td>\n",
       "      <td>Alexander &amp; Baldwin Inc</td>\n",
       "      <td>2004</td>\n",
       "    </tr>\n",
       "    <tr>\n",
       "      <th>96</th>\n",
       "      <td>3.9766</td>\n",
       "      <td>1.4386</td>\n",
       "      <td>2.3145</td>\n",
       "      <td>2541.0</td>\n",
       "      <td>ODP Corp</td>\n",
       "      <td>2004</td>\n",
       "    </tr>\n",
       "    <tr>\n",
       "      <th>97</th>\n",
       "      <td>4.0318</td>\n",
       "      <td>4.7198</td>\n",
       "      <td>1.3358</td>\n",
       "      <td>4481.0</td>\n",
       "      <td>Carnival Corp</td>\n",
       "      <td>2017</td>\n",
       "    </tr>\n",
       "    <tr>\n",
       "      <th>98</th>\n",
       "      <td>2.6613</td>\n",
       "      <td>2.4304</td>\n",
       "      <td>4.1890</td>\n",
       "      <td>4371.0</td>\n",
       "      <td>Alexander &amp; Baldwin Inc</td>\n",
       "      <td>2004</td>\n",
       "    </tr>\n",
       "    <tr>\n",
       "      <th>99</th>\n",
       "      <td>7.4530</td>\n",
       "      <td>7.8873</td>\n",
       "      <td>3.5311</td>\n",
       "      <td>5143.0</td>\n",
       "      <td>NTT Docomo Inc</td>\n",
       "      <td>2017</td>\n",
       "    </tr>\n",
       "  </tbody>\n",
       "</table>\n",
       "<p>100 rows × 6 columns</p>\n",
       "</div>"
      ],
      "text/plain": [
       "    diversity   equity  inclusion  document_length  \\\n",
       "0      2.4998   4.6166     1.9578           4188.0   \n",
       "1      1.8611  13.9687     1.3933           3651.0   \n",
       "2      1.7984   4.7317     2.7586           4846.0   \n",
       "3      2.0576   3.3122     2.1062           4033.0   \n",
       "4      2.0831   3.2115     2.9858           3810.0   \n",
       "..        ...      ...        ...              ...   \n",
       "95     1.9725   5.9412     2.4686           4357.0   \n",
       "96     3.9766   1.4386     2.3145           2541.0   \n",
       "97     4.0318   4.7198     1.3358           4481.0   \n",
       "98     2.6613   2.4304     4.1890           4371.0   \n",
       "99     7.4530   7.8873     3.5311           5143.0   \n",
       "\n",
       "                                  firm_id  time  \n",
       "0                 Alexander & Baldwin Inc  2005  \n",
       "1   GCI Liberty Inc (Pre-Reincorporation)  2017  \n",
       "2                                ODP Corp  2005  \n",
       "3                                ODP Corp  2005  \n",
       "4                                ODP Corp  2005  \n",
       "..                                    ...   ...  \n",
       "95                Alexander & Baldwin Inc  2004  \n",
       "96                               ODP Corp  2004  \n",
       "97                          Carnival Corp  2017  \n",
       "98                Alexander & Baldwin Inc  2004  \n",
       "99                         NTT Docomo Inc  2017  \n",
       "\n",
       "[100 rows x 6 columns]"
      ]
     },
     "execution_count": 2,
     "metadata": {},
     "output_type": "execute_result"
    }
   ],
   "source": [
    "df = pd.read_csv(\"outputs\\\\scores\\\\firm_scores_TFIDF.csv\")\n",
    "df\n"
   ]
  },
  {
   "cell_type": "code",
   "execution_count": 6,
   "metadata": {},
   "outputs": [
    {
     "data": {
      "application/vnd.plotly.v1+json": {
       "config": {
        "plotlyServerURL": "https://plot.ly"
       },
       "data": [
        {
         "hovertemplate": "firm_id=Alexander & Baldwin Inc<br>diversity=%{x}<br>equity=%{y}<br>inclusion=%{z}<extra></extra>",
         "legendgroup": "Alexander & Baldwin Inc",
         "marker": {
          "color": "#636efa",
          "symbol": "circle"
         },
         "mode": "markers",
         "name": "Alexander & Baldwin Inc",
         "scene": "scene",
         "showlegend": true,
         "type": "scatter3d",
         "x": [
          2.4998,
          1.5802,
          2.2035,
          2.4617,
          2.2115,
          2.2521,
          1.8471,
          2.2607,
          1.7404,
          2.2567,
          2.9144,
          1.8428,
          4.3224,
          2.5991,
          2.1317,
          1.8707,
          2.8085,
          3.2941,
          2.3462,
          1.9636,
          1.9725,
          2.6613
         ],
         "y": [
          4.6166,
          3.5041,
          5.1415,
          4.3573,
          2.8063,
          4.5843,
          4.4756,
          4.4058,
          4.7766,
          3.6332,
          2.8699,
          5.3288,
          2.5104,
          2.7291,
          4.3047,
          3.8382,
          4.2817,
          4.917,
          4.2066,
          5.404,
          5.9412,
          2.4304
         ],
         "z": [
          1.9578,
          1.1053,
          2.097,
          2.2576,
          3.6723,
          4.2196,
          3.7566,
          2.591,
          1.6292,
          3.3084,
          4.3768,
          3.2299,
          3.232,
          3.1404,
          2.6087,
          1.2626,
          2.9501,
          1.9507,
          1.5846,
          2.1747,
          2.4686,
          4.189
         ]
        },
        {
         "hovertemplate": "firm_id=GCI Liberty Inc (Pre-Reincorporation)<br>diversity=%{x}<br>equity=%{y}<br>inclusion=%{z}<extra></extra>",
         "legendgroup": "GCI Liberty Inc (Pre-Reincorporation)",
         "marker": {
          "color": "#EF553B",
          "symbol": "circle"
         },
         "mode": "markers",
         "name": "GCI Liberty Inc (Pre-Reincorporation)",
         "scene": "scene",
         "showlegend": true,
         "type": "scatter3d",
         "x": [
          1.8611
         ],
         "y": [
          13.9687
         ],
         "z": [
          1.3933
         ]
        },
        {
         "hovertemplate": "firm_id=ODP Corp<br>diversity=%{x}<br>equity=%{y}<br>inclusion=%{z}<extra></extra>",
         "legendgroup": "ODP Corp",
         "marker": {
          "color": "#00cc96",
          "symbol": "circle"
         },
         "mode": "markers",
         "name": "ODP Corp",
         "scene": "scene",
         "showlegend": true,
         "type": "scatter3d",
         "x": [
          1.7984,
          2.0576,
          2.0831,
          1.4971,
          3.3375,
          3.9617,
          1.3755,
          4.6998,
          4.7941,
          3.0706,
          3.594,
          3.0722,
          2.2835,
          4.7004,
          2.389,
          2.2386,
          1.3005,
          1.7551,
          2.2311,
          2.0167,
          1.1234,
          2.3175,
          3.3324,
          3.0645,
          1.4602,
          2.7906,
          1.7084,
          6.8314,
          3.6522,
          2.7522,
          2.2557,
          4.5179,
          5.8286,
          3.9766
         ],
         "y": [
          4.7317,
          3.3122,
          3.2115,
          4.3062,
          2.9898,
          1.9967,
          3.2664,
          3.3503,
          2.364,
          2.6042,
          3.6737,
          2.9157,
          2.5161,
          1.4453,
          3.4546,
          2.9461,
          2.3586,
          3.3968,
          4.2764,
          3.5879,
          2.6057,
          3.9521,
          3.1396,
          4.066,
          5.2341,
          2.7518,
          3.3668,
          0.6512,
          2.0673,
          2.2699,
          2.1107,
          2.8159,
          2.2623,
          1.4386
         ],
         "z": [
          2.7586,
          2.1062,
          2.9858,
          3.5182,
          1.4561,
          1.7962,
          2.9962,
          2.3312,
          2.282,
          2.7432,
          3.1998,
          3.0497,
          2.1087,
          1.8155,
          3.9421,
          4.0413,
          2.616,
          2.8549,
          2.2477,
          2.3371,
          2.5132,
          0.7227,
          1.4702,
          2.426,
          5.2101,
          1.8005,
          2.0236,
          1.2564,
          2.7674,
          3.517,
          3.1561,
          1.6473,
          2.0648,
          2.3145
         ]
        },
        {
         "hovertemplate": "firm_id=E*Trade Financial Corp<br>diversity=%{x}<br>equity=%{y}<br>inclusion=%{z}<extra></extra>",
         "legendgroup": "E*Trade Financial Corp",
         "marker": {
          "color": "#ab63fa",
          "symbol": "circle"
         },
         "mode": "markers",
         "name": "E*Trade Financial Corp",
         "scene": "scene",
         "showlegend": true,
         "type": "scatter3d",
         "x": [
          4.8608,
          3.4034,
          4.6009,
          3.0517,
          5.1686,
          3.2152,
          2.8272,
          6.7182,
          1.7532,
          4.9467,
          1.6533,
          3.4898,
          2.3808,
          1.5822,
          2.6423,
          2.0249
         ],
         "y": [
          10.2602,
          8.6124,
          8.0406,
          8.7225,
          8.9529,
          11.3851,
          11.1122,
          7.6558,
          11.3704,
          7.9769,
          11.7886,
          8.1065,
          8.1198,
          9.0533,
          9.2827,
          12.1729
         ],
         "z": [
          0.5949,
          1.1897,
          1.1554,
          1.6102,
          1.4947,
          0.9695,
          1.179,
          0.8225,
          1.5967,
          0.9382,
          0.9913,
          2.4555,
          2.4909,
          3.3092,
          3.1408,
          2.0361
         ]
        },
        {
         "hovertemplate": "firm_id=AltaGas Ltd (Alberta)<br>diversity=%{x}<br>equity=%{y}<br>inclusion=%{z}<extra></extra>",
         "legendgroup": "AltaGas Ltd (Alberta)",
         "marker": {
          "color": "#FFA15A",
          "symbol": "circle"
         },
         "mode": "markers",
         "name": "AltaGas Ltd (Alberta)",
         "scene": "scene",
         "showlegend": true,
         "type": "scatter3d",
         "x": [
          1.8748,
          1.868,
          3.4966
         ],
         "y": [
          9.1427,
          7.1956,
          3.0562
         ],
         "z": [
          4.4712,
          5.467,
          6.7435
         ]
        },
        {
         "hovertemplate": "firm_id=Mitcham Industries Inc<br>diversity=%{x}<br>equity=%{y}<br>inclusion=%{z}<extra></extra>",
         "legendgroup": "Mitcham Industries Inc",
         "marker": {
          "color": "#19d3f3",
          "symbol": "circle"
         },
         "mode": "markers",
         "name": "Mitcham Industries Inc",
         "scene": "scene",
         "showlegend": true,
         "type": "scatter3d",
         "x": [
          1.8595
         ],
         "y": [
          4.4183
         ],
         "z": [
          2.0043
         ]
        },
        {
         "hovertemplate": "firm_id=Anaren Inc<br>diversity=%{x}<br>equity=%{y}<br>inclusion=%{z}<extra></extra>",
         "legendgroup": "Anaren Inc",
         "marker": {
          "color": "#FF6692",
          "symbol": "circle"
         },
         "mode": "markers",
         "name": "Anaren Inc",
         "scene": "scene",
         "showlegend": true,
         "type": "scatter3d",
         "x": [
          2.6054,
          3.7748,
          2.8725,
          2.4137,
          3.9616,
          3.3747
         ],
         "y": [
          4.3602,
          4.296,
          4.829,
          6.3284,
          5.7753,
          6.9211
         ],
         "z": [
          0.798,
          1.016,
          1.4982,
          1.4297,
          1.892,
          2.462
         ]
        },
        {
         "hovertemplate": "firm_id=Glencore Canada Corp<br>diversity=%{x}<br>equity=%{y}<br>inclusion=%{z}<extra></extra>",
         "legendgroup": "Glencore Canada Corp",
         "marker": {
          "color": "#B6E880",
          "symbol": "circle"
         },
         "mode": "markers",
         "name": "Glencore Canada Corp",
         "scene": "scene",
         "showlegend": true,
         "type": "scatter3d",
         "x": [
          2.4745,
          4.7389,
          1.9919
         ],
         "y": [
          5.6532,
          2.1704,
          8.4248
         ],
         "z": [
          3.3716,
          0.4291,
          3.1461
         ]
        },
        {
         "hovertemplate": "firm_id=Unilever NV<br>diversity=%{x}<br>equity=%{y}<br>inclusion=%{z}<extra></extra>",
         "legendgroup": "Unilever NV",
         "marker": {
          "color": "#FF97FF",
          "symbol": "circle"
         },
         "mode": "markers",
         "name": "Unilever NV",
         "scene": "scene",
         "showlegend": true,
         "type": "scatter3d",
         "x": [
          1.2139,
          2.2724,
          2.5491
         ],
         "y": [
          3.5296,
          3.3433,
          4.2564
         ],
         "z": [
          5.2049,
          6.052,
          6.2581
         ]
        },
        {
         "hovertemplate": "firm_id=IBERIABANK Corp<br>diversity=%{x}<br>equity=%{y}<br>inclusion=%{z}<extra></extra>",
         "legendgroup": "IBERIABANK Corp",
         "marker": {
          "color": "#FECB52",
          "symbol": "circle"
         },
         "mode": "markers",
         "name": "IBERIABANK Corp",
         "scene": "scene",
         "showlegend": true,
         "type": "scatter3d",
         "x": [
          1.9715,
          2.3156
         ],
         "y": [
          7.4229,
          13.0317
         ],
         "z": [
          1.9182,
          1.7061
         ]
        },
        {
         "hovertemplate": "firm_id=TIM Participacoes SA<br>diversity=%{x}<br>equity=%{y}<br>inclusion=%{z}<extra></extra>",
         "legendgroup": "TIM Participacoes SA",
         "marker": {
          "color": "#636efa",
          "symbol": "circle"
         },
         "mode": "markers",
         "name": "TIM Participacoes SA",
         "scene": "scene",
         "showlegend": true,
         "type": "scatter3d",
         "x": [
          1.0593,
          1.5528,
          1.8544
         ],
         "y": [
          2.9994,
          3.6346,
          9.5943
         ],
         "z": [
          3.5545,
          0.3629,
          1.5663
         ]
        },
        {
         "hovertemplate": "firm_id=Standard Diversified Inc<br>diversity=%{x}<br>equity=%{y}<br>inclusion=%{z}<extra></extra>",
         "legendgroup": "Standard Diversified Inc",
         "marker": {
          "color": "#EF553B",
          "symbol": "circle"
         },
         "mode": "markers",
         "name": "Standard Diversified Inc",
         "scene": "scene",
         "showlegend": true,
         "type": "scatter3d",
         "x": [
          8.5278,
          6.0656
         ],
         "y": [
          3.0825,
          1.7872
         ],
         "z": [
          0.9158,
          1.629
         ]
        },
        {
         "hovertemplate": "firm_id=Fibria Celulose SA<br>diversity=%{x}<br>equity=%{y}<br>inclusion=%{z}<extra></extra>",
         "legendgroup": "Fibria Celulose SA",
         "marker": {
          "color": "#00cc96",
          "symbol": "circle"
         },
         "mode": "markers",
         "name": "Fibria Celulose SA",
         "scene": "scene",
         "showlegend": true,
         "type": "scatter3d",
         "x": [
          2.7982
         ],
         "y": [
          5.5645
         ],
         "z": [
          7.9997
         ]
        },
        {
         "hovertemplate": "firm_id=Comdirect Bank AG<br>diversity=%{x}<br>equity=%{y}<br>inclusion=%{z}<extra></extra>",
         "legendgroup": "Comdirect Bank AG",
         "marker": {
          "color": "#ab63fa",
          "symbol": "circle"
         },
         "mode": "markers",
         "name": "Comdirect Bank AG",
         "scene": "scene",
         "showlegend": true,
         "type": "scatter3d",
         "x": [
          3.0279
         ],
         "y": [
          4.2663
         ],
         "z": [
          2.1452
         ]
        },
        {
         "hovertemplate": "firm_id=Carnival Corp<br>diversity=%{x}<br>equity=%{y}<br>inclusion=%{z}<extra></extra>",
         "legendgroup": "Carnival Corp",
         "marker": {
          "color": "#FFA15A",
          "symbol": "circle"
         },
         "mode": "markers",
         "name": "Carnival Corp",
         "scene": "scene",
         "showlegend": true,
         "type": "scatter3d",
         "x": [
          4.0318
         ],
         "y": [
          4.7198
         ],
         "z": [
          1.3358
         ]
        },
        {
         "hovertemplate": "firm_id=NTT Docomo Inc<br>diversity=%{x}<br>equity=%{y}<br>inclusion=%{z}<extra></extra>",
         "legendgroup": "NTT Docomo Inc",
         "marker": {
          "color": "#19d3f3",
          "symbol": "circle"
         },
         "mode": "markers",
         "name": "NTT Docomo Inc",
         "scene": "scene",
         "showlegend": true,
         "type": "scatter3d",
         "x": [
          7.453
         ],
         "y": [
          7.8873
         ],
         "z": [
          3.5311
         ]
        }
       ],
       "layout": {
        "autosize": true,
        "height": 700,
        "legend": {
         "title": {
          "text": "firm_id"
         },
         "tracegroupgap": 0
        },
        "margin": {
         "t": 60
        },
        "scene": {
         "domain": {
          "x": [
           0,
           1
          ],
          "y": [
           0,
           1
          ]
         },
         "xaxis": {
          "title": {
           "text": "diversity"
          }
         },
         "yaxis": {
          "title": {
           "text": "equity"
          }
         },
         "zaxis": {
          "title": {
           "text": "inclusion"
          }
         }
        },
        "template": {
         "data": {
          "bar": [
           {
            "error_x": {
             "color": "#2a3f5f"
            },
            "error_y": {
             "color": "#2a3f5f"
            },
            "marker": {
             "line": {
              "color": "#E5ECF6",
              "width": 0.5
             },
             "pattern": {
              "fillmode": "overlay",
              "size": 10,
              "solidity": 0.2
             }
            },
            "type": "bar"
           }
          ],
          "barpolar": [
           {
            "marker": {
             "line": {
              "color": "#E5ECF6",
              "width": 0.5
             },
             "pattern": {
              "fillmode": "overlay",
              "size": 10,
              "solidity": 0.2
             }
            },
            "type": "barpolar"
           }
          ],
          "carpet": [
           {
            "aaxis": {
             "endlinecolor": "#2a3f5f",
             "gridcolor": "white",
             "linecolor": "white",
             "minorgridcolor": "white",
             "startlinecolor": "#2a3f5f"
            },
            "baxis": {
             "endlinecolor": "#2a3f5f",
             "gridcolor": "white",
             "linecolor": "white",
             "minorgridcolor": "white",
             "startlinecolor": "#2a3f5f"
            },
            "type": "carpet"
           }
          ],
          "choropleth": [
           {
            "colorbar": {
             "outlinewidth": 0,
             "ticks": ""
            },
            "type": "choropleth"
           }
          ],
          "contour": [
           {
            "colorbar": {
             "outlinewidth": 0,
             "ticks": ""
            },
            "colorscale": [
             [
              0,
              "#0d0887"
             ],
             [
              0.1111111111111111,
              "#46039f"
             ],
             [
              0.2222222222222222,
              "#7201a8"
             ],
             [
              0.3333333333333333,
              "#9c179e"
             ],
             [
              0.4444444444444444,
              "#bd3786"
             ],
             [
              0.5555555555555556,
              "#d8576b"
             ],
             [
              0.6666666666666666,
              "#ed7953"
             ],
             [
              0.7777777777777778,
              "#fb9f3a"
             ],
             [
              0.8888888888888888,
              "#fdca26"
             ],
             [
              1,
              "#f0f921"
             ]
            ],
            "type": "contour"
           }
          ],
          "contourcarpet": [
           {
            "colorbar": {
             "outlinewidth": 0,
             "ticks": ""
            },
            "type": "contourcarpet"
           }
          ],
          "heatmap": [
           {
            "colorbar": {
             "outlinewidth": 0,
             "ticks": ""
            },
            "colorscale": [
             [
              0,
              "#0d0887"
             ],
             [
              0.1111111111111111,
              "#46039f"
             ],
             [
              0.2222222222222222,
              "#7201a8"
             ],
             [
              0.3333333333333333,
              "#9c179e"
             ],
             [
              0.4444444444444444,
              "#bd3786"
             ],
             [
              0.5555555555555556,
              "#d8576b"
             ],
             [
              0.6666666666666666,
              "#ed7953"
             ],
             [
              0.7777777777777778,
              "#fb9f3a"
             ],
             [
              0.8888888888888888,
              "#fdca26"
             ],
             [
              1,
              "#f0f921"
             ]
            ],
            "type": "heatmap"
           }
          ],
          "heatmapgl": [
           {
            "colorbar": {
             "outlinewidth": 0,
             "ticks": ""
            },
            "colorscale": [
             [
              0,
              "#0d0887"
             ],
             [
              0.1111111111111111,
              "#46039f"
             ],
             [
              0.2222222222222222,
              "#7201a8"
             ],
             [
              0.3333333333333333,
              "#9c179e"
             ],
             [
              0.4444444444444444,
              "#bd3786"
             ],
             [
              0.5555555555555556,
              "#d8576b"
             ],
             [
              0.6666666666666666,
              "#ed7953"
             ],
             [
              0.7777777777777778,
              "#fb9f3a"
             ],
             [
              0.8888888888888888,
              "#fdca26"
             ],
             [
              1,
              "#f0f921"
             ]
            ],
            "type": "heatmapgl"
           }
          ],
          "histogram": [
           {
            "marker": {
             "pattern": {
              "fillmode": "overlay",
              "size": 10,
              "solidity": 0.2
             }
            },
            "type": "histogram"
           }
          ],
          "histogram2d": [
           {
            "colorbar": {
             "outlinewidth": 0,
             "ticks": ""
            },
            "colorscale": [
             [
              0,
              "#0d0887"
             ],
             [
              0.1111111111111111,
              "#46039f"
             ],
             [
              0.2222222222222222,
              "#7201a8"
             ],
             [
              0.3333333333333333,
              "#9c179e"
             ],
             [
              0.4444444444444444,
              "#bd3786"
             ],
             [
              0.5555555555555556,
              "#d8576b"
             ],
             [
              0.6666666666666666,
              "#ed7953"
             ],
             [
              0.7777777777777778,
              "#fb9f3a"
             ],
             [
              0.8888888888888888,
              "#fdca26"
             ],
             [
              1,
              "#f0f921"
             ]
            ],
            "type": "histogram2d"
           }
          ],
          "histogram2dcontour": [
           {
            "colorbar": {
             "outlinewidth": 0,
             "ticks": ""
            },
            "colorscale": [
             [
              0,
              "#0d0887"
             ],
             [
              0.1111111111111111,
              "#46039f"
             ],
             [
              0.2222222222222222,
              "#7201a8"
             ],
             [
              0.3333333333333333,
              "#9c179e"
             ],
             [
              0.4444444444444444,
              "#bd3786"
             ],
             [
              0.5555555555555556,
              "#d8576b"
             ],
             [
              0.6666666666666666,
              "#ed7953"
             ],
             [
              0.7777777777777778,
              "#fb9f3a"
             ],
             [
              0.8888888888888888,
              "#fdca26"
             ],
             [
              1,
              "#f0f921"
             ]
            ],
            "type": "histogram2dcontour"
           }
          ],
          "mesh3d": [
           {
            "colorbar": {
             "outlinewidth": 0,
             "ticks": ""
            },
            "type": "mesh3d"
           }
          ],
          "parcoords": [
           {
            "line": {
             "colorbar": {
              "outlinewidth": 0,
              "ticks": ""
             }
            },
            "type": "parcoords"
           }
          ],
          "pie": [
           {
            "automargin": true,
            "type": "pie"
           }
          ],
          "scatter": [
           {
            "fillpattern": {
             "fillmode": "overlay",
             "size": 10,
             "solidity": 0.2
            },
            "type": "scatter"
           }
          ],
          "scatter3d": [
           {
            "line": {
             "colorbar": {
              "outlinewidth": 0,
              "ticks": ""
             }
            },
            "marker": {
             "colorbar": {
              "outlinewidth": 0,
              "ticks": ""
             }
            },
            "type": "scatter3d"
           }
          ],
          "scattercarpet": [
           {
            "marker": {
             "colorbar": {
              "outlinewidth": 0,
              "ticks": ""
             }
            },
            "type": "scattercarpet"
           }
          ],
          "scattergeo": [
           {
            "marker": {
             "colorbar": {
              "outlinewidth": 0,
              "ticks": ""
             }
            },
            "type": "scattergeo"
           }
          ],
          "scattergl": [
           {
            "marker": {
             "colorbar": {
              "outlinewidth": 0,
              "ticks": ""
             }
            },
            "type": "scattergl"
           }
          ],
          "scattermapbox": [
           {
            "marker": {
             "colorbar": {
              "outlinewidth": 0,
              "ticks": ""
             }
            },
            "type": "scattermapbox"
           }
          ],
          "scatterpolar": [
           {
            "marker": {
             "colorbar": {
              "outlinewidth": 0,
              "ticks": ""
             }
            },
            "type": "scatterpolar"
           }
          ],
          "scatterpolargl": [
           {
            "marker": {
             "colorbar": {
              "outlinewidth": 0,
              "ticks": ""
             }
            },
            "type": "scatterpolargl"
           }
          ],
          "scatterternary": [
           {
            "marker": {
             "colorbar": {
              "outlinewidth": 0,
              "ticks": ""
             }
            },
            "type": "scatterternary"
           }
          ],
          "surface": [
           {
            "colorbar": {
             "outlinewidth": 0,
             "ticks": ""
            },
            "colorscale": [
             [
              0,
              "#0d0887"
             ],
             [
              0.1111111111111111,
              "#46039f"
             ],
             [
              0.2222222222222222,
              "#7201a8"
             ],
             [
              0.3333333333333333,
              "#9c179e"
             ],
             [
              0.4444444444444444,
              "#bd3786"
             ],
             [
              0.5555555555555556,
              "#d8576b"
             ],
             [
              0.6666666666666666,
              "#ed7953"
             ],
             [
              0.7777777777777778,
              "#fb9f3a"
             ],
             [
              0.8888888888888888,
              "#fdca26"
             ],
             [
              1,
              "#f0f921"
             ]
            ],
            "type": "surface"
           }
          ],
          "table": [
           {
            "cells": {
             "fill": {
              "color": "#EBF0F8"
             },
             "line": {
              "color": "white"
             }
            },
            "header": {
             "fill": {
              "color": "#C8D4E3"
             },
             "line": {
              "color": "white"
             }
            },
            "type": "table"
           }
          ]
         },
         "layout": {
          "annotationdefaults": {
           "arrowcolor": "#2a3f5f",
           "arrowhead": 0,
           "arrowwidth": 1
          },
          "autotypenumbers": "strict",
          "coloraxis": {
           "colorbar": {
            "outlinewidth": 0,
            "ticks": ""
           }
          },
          "colorscale": {
           "diverging": [
            [
             0,
             "#8e0152"
            ],
            [
             0.1,
             "#c51b7d"
            ],
            [
             0.2,
             "#de77ae"
            ],
            [
             0.3,
             "#f1b6da"
            ],
            [
             0.4,
             "#fde0ef"
            ],
            [
             0.5,
             "#f7f7f7"
            ],
            [
             0.6,
             "#e6f5d0"
            ],
            [
             0.7,
             "#b8e186"
            ],
            [
             0.8,
             "#7fbc41"
            ],
            [
             0.9,
             "#4d9221"
            ],
            [
             1,
             "#276419"
            ]
           ],
           "sequential": [
            [
             0,
             "#0d0887"
            ],
            [
             0.1111111111111111,
             "#46039f"
            ],
            [
             0.2222222222222222,
             "#7201a8"
            ],
            [
             0.3333333333333333,
             "#9c179e"
            ],
            [
             0.4444444444444444,
             "#bd3786"
            ],
            [
             0.5555555555555556,
             "#d8576b"
            ],
            [
             0.6666666666666666,
             "#ed7953"
            ],
            [
             0.7777777777777778,
             "#fb9f3a"
            ],
            [
             0.8888888888888888,
             "#fdca26"
            ],
            [
             1,
             "#f0f921"
            ]
           ],
           "sequentialminus": [
            [
             0,
             "#0d0887"
            ],
            [
             0.1111111111111111,
             "#46039f"
            ],
            [
             0.2222222222222222,
             "#7201a8"
            ],
            [
             0.3333333333333333,
             "#9c179e"
            ],
            [
             0.4444444444444444,
             "#bd3786"
            ],
            [
             0.5555555555555556,
             "#d8576b"
            ],
            [
             0.6666666666666666,
             "#ed7953"
            ],
            [
             0.7777777777777778,
             "#fb9f3a"
            ],
            [
             0.8888888888888888,
             "#fdca26"
            ],
            [
             1,
             "#f0f921"
            ]
           ]
          },
          "colorway": [
           "#636efa",
           "#EF553B",
           "#00cc96",
           "#ab63fa",
           "#FFA15A",
           "#19d3f3",
           "#FF6692",
           "#B6E880",
           "#FF97FF",
           "#FECB52"
          ],
          "font": {
           "color": "#2a3f5f"
          },
          "geo": {
           "bgcolor": "white",
           "lakecolor": "white",
           "landcolor": "#E5ECF6",
           "showlakes": true,
           "showland": true,
           "subunitcolor": "white"
          },
          "hoverlabel": {
           "align": "left"
          },
          "hovermode": "closest",
          "mapbox": {
           "style": "light"
          },
          "paper_bgcolor": "white",
          "plot_bgcolor": "#E5ECF6",
          "polar": {
           "angularaxis": {
            "gridcolor": "white",
            "linecolor": "white",
            "ticks": ""
           },
           "bgcolor": "#E5ECF6",
           "radialaxis": {
            "gridcolor": "white",
            "linecolor": "white",
            "ticks": ""
           }
          },
          "scene": {
           "xaxis": {
            "backgroundcolor": "#E5ECF6",
            "gridcolor": "white",
            "gridwidth": 2,
            "linecolor": "white",
            "showbackground": true,
            "ticks": "",
            "zerolinecolor": "white"
           },
           "yaxis": {
            "backgroundcolor": "#E5ECF6",
            "gridcolor": "white",
            "gridwidth": 2,
            "linecolor": "white",
            "showbackground": true,
            "ticks": "",
            "zerolinecolor": "white"
           },
           "zaxis": {
            "backgroundcolor": "#E5ECF6",
            "gridcolor": "white",
            "gridwidth": 2,
            "linecolor": "white",
            "showbackground": true,
            "ticks": "",
            "zerolinecolor": "white"
           }
          },
          "shapedefaults": {
           "line": {
            "color": "#2a3f5f"
           }
          },
          "ternary": {
           "aaxis": {
            "gridcolor": "white",
            "linecolor": "white",
            "ticks": ""
           },
           "baxis": {
            "gridcolor": "white",
            "linecolor": "white",
            "ticks": ""
           },
           "bgcolor": "#E5ECF6",
           "caxis": {
            "gridcolor": "white",
            "linecolor": "white",
            "ticks": ""
           }
          },
          "title": {
           "x": 0.05
          },
          "xaxis": {
           "automargin": true,
           "gridcolor": "white",
           "linecolor": "white",
           "ticks": "",
           "title": {
            "standoff": 15
           },
           "zerolinecolor": "white",
           "zerolinewidth": 2
          },
          "yaxis": {
           "automargin": true,
           "gridcolor": "white",
           "linecolor": "white",
           "ticks": "",
           "title": {
            "standoff": 15
           },
           "zerolinecolor": "white",
           "zerolinewidth": 2
          }
         }
        },
        "width": 1000
       }
      }
     },
     "metadata": {},
     "output_type": "display_data"
    }
   ],
   "source": [
    "fig = px.scatter_3d(df, x='diversity', y='equity', z='inclusion',\n",
    "              color='firm_id')\n",
    "\n",
    "fig.update_layout(autosize=True, \n",
    "                  width=1000, \n",
    "                  height=700,\n",
    "                  )\n",
    "fig.show()"
   ]
  },
  {
   "cell_type": "code",
   "execution_count": null,
   "metadata": {},
   "outputs": [],
   "source": []
  }
 ],
 "metadata": {
  "kernelspec": {
   "display_name": "index",
   "language": "python",
   "name": "python3"
  },
  "language_info": {
   "codemirror_mode": {
    "name": "ipython",
    "version": 3
   },
   "file_extension": ".py",
   "mimetype": "text/x-python",
   "name": "python",
   "nbconvert_exporter": "python",
   "pygments_lexer": "ipython3",
   "version": "3.9.16"
  },
  "orig_nbformat": 4
 },
 "nbformat": 4,
 "nbformat_minor": 2
}
