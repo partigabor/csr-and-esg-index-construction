{
 "cells": [
  {
   "cell_type": "code",
   "execution_count": 1,
   "metadata": {},
   "outputs": [],
   "source": [
    "import pandas as pd\n",
    "import regex as re\n",
    "import os, sys\n",
    "import PyPDF2"
   ]
  },
  {
   "cell_type": "code",
   "execution_count": 2,
   "metadata": {},
   "outputs": [],
   "source": [
    "path = \"data-csr\" ###"
   ]
  },
  {
   "cell_type": "code",
   "execution_count": 3,
   "metadata": {},
   "outputs": [],
   "source": [
    "\n",
    "# a function to walk through all files in a folder and its subfolders\n",
    "def list_files(dir):                                                                                                  \n",
    "    r = []                                                                                                            \n",
    "    subdirs = [x[0] for x in os.walk(dir)]                                                                            \n",
    "    for subdir in subdirs:                                                                                            \n",
    "        files = os.walk(subdir).__next__()[2]                                                                             \n",
    "        if (len(files) > 0):                                                                                          \n",
    "            for file in files:                                                                                        \n",
    "                r.append(os.path.join(subdir, file))                                                                         \n",
    "    return r"
   ]
  },
  {
   "cell_type": "code",
   "execution_count": 4,
   "metadata": {},
   "outputs": [
    {
     "name": "stdout",
     "output_type": "stream",
     "text": [
      "Your input directory is: c:\\Users\\gparti\\GitHub\\index-construction\\data-csr\\raw \n",
      "Number of files: 4\n"
     ]
    }
   ],
   "source": [
    "# assign relative directory\n",
    "directory = os.path.join(sys.path[0], path + \"\\\\raw\") ### INPUT FOLDER HERE ###\n",
    "\n",
    "# list files in directory\n",
    "files_in_dir = list_files(directory)\n",
    "\n",
    "# count files in directory\n",
    "print(\"Your input directory is:\", directory, \"\\nNumber of files:\", len(files_in_dir))"
   ]
  },
  {
   "cell_type": "code",
   "execution_count": 5,
   "metadata": {},
   "outputs": [
    {
     "data": {
      "text/html": [
       "<div>\n",
       "<style scoped>\n",
       "    .dataframe tbody tr th:only-of-type {\n",
       "        vertical-align: middle;\n",
       "    }\n",
       "\n",
       "    .dataframe tbody tr th {\n",
       "        vertical-align: top;\n",
       "    }\n",
       "\n",
       "    .dataframe thead th {\n",
       "        text-align: right;\n",
       "    }\n",
       "</style>\n",
       "<table border=\"1\" class=\"dataframe\">\n",
       "  <thead>\n",
       "    <tr style=\"text-align: right;\">\n",
       "      <th></th>\n",
       "      <th>file</th>\n",
       "    </tr>\n",
       "  </thead>\n",
       "  <tbody>\n",
       "  </tbody>\n",
       "</table>\n",
       "</div>"
      ],
      "text/plain": [
       "Empty DataFrame\n",
       "Columns: [file]\n",
       "Index: []"
      ]
     },
     "execution_count": 5,
     "metadata": {},
     "output_type": "execute_result"
    }
   ],
   "source": [
    "# initialize dataframe to hold documents\n",
    "df = pd.DataFrame(columns=['file'])\n",
    "df"
   ]
  },
  {
   "cell_type": "code",
   "execution_count": null,
   "metadata": {},
   "outputs": [],
   "source": [
    "# idaig megvan"
   ]
  },
  {
   "cell_type": "code",
   "execution_count": null,
   "metadata": {},
   "outputs": [],
   "source": [
    "# function to read a pdf file and add them to a dataframe\n",
    "def read_pdf(document, index=0):\n",
    "  \"\"\"Read and parse a pdf file.\n",
    "  This function uses the PyPDF2 package to read and extract \n",
    "  the contents of a pdf file, page by page.\n",
    "\n",
    "  Keyword arguments:\n",
    "  document -- the document to be read in.\n",
    "  index -- the index of the document, an integer (default 0)\n",
    "  \"\"\"\n",
    "  # add filename to dataframe\n",
    "  m = re.search(r\"\\\\(?!.*\\\\)(.*)_(\\d+)(_?.*)?((\\.pdf)|(\\.txt))\", document.lower())\n",
    "  filename_match = m.group(0)\n",
    "  filename = re.sub(\"[\\\\\\/\\'\\>]\", \"\", filename_match)\n",
    "  filename = re.sub(\"\\.\\w+\", \"\", filename)\n",
    "  company = m.group(1)\n",
    "  year = m.group(2)\n",
    "  type = m.group(3)\n",
    "  type = re.sub(\"^_\", \"\", type)\n",
    "  ext = m.group(4)\n",
    "  ext = re.sub(\"\\.\", \"\", ext)\n",
    "\n",
    "  df.loc[index, 'file'] = filename\n",
    "  df.loc[index, 'company'] = company\n",
    "  df.loc[index, 'year'] = year\n",
    "  df.loc[index, 'type'] = type\n",
    "  if type == \"\":\n",
    "    df.loc[index, 'type'] = 'not_csr'\n",
    "  \n",
    "  print(\"Parsing\", filename, \"...\")\n",
    "\n",
    "  # #####\n",
    "  # y = re.search(\"([0-9]{4})\", filename)\n",
    "  # if y is None:\n",
    "  #   df.loc[index, 'year'] = np.nan\n",
    "  # else:\n",
    "  #   df.loc[index, 'year'] = y[0]\n",
    "  # #####\n",
    "\n",
    "  # creating a pdf file object\n",
    "  pdfFileObj = open(document, 'rb') \n",
    "\n",
    "  # n = re.search(r\"\\\\(?:.(?!\\\\))+$\", filename_with_path)\n",
    "  # filename_match = n.group(0)\n",
    "\n",
    "  # creating a pdf reader object \n",
    "  pdfReader = PyPDF2.PdfFileReader(pdfFileObj, strict=False) \n",
    "      \n",
    "  # printing number of pages in pdf file \n",
    "  # print(\"Number of pages:\", pdfReader.numPages)\n",
    "  pages = pdfReader.numPages\n",
    "\n",
    "  # add page number to dataframe\n",
    "  # df.loc[index, 'pages'] = pages\n",
    "\n",
    "  # creating a page object \n",
    "  pageObj = pdfReader.getPage(0)\n",
    "\n",
    "  # extracting text from page \n",
    "  # print(pageObj.extractText())\n",
    "\n",
    "  pages_with_contents = []\n",
    "\n",
    "  for p in range(pages):\n",
    "    pageObj = pdfReader.getPage(p)\n",
    "    page_contents = pageObj.extractText()\n",
    "    pages_with_contents.append(page_contents)\n",
    "\n",
    "  # join pages into one document\n",
    "  contents = \" \".join(pages_with_contents)\n",
    "\n",
    "  #closing the pdf file object \n",
    "  pdfFileObj.close() \n",
    "\n",
    "  # cleaning\n",
    "  contents = re.sub(\"\\n\", \" \", contents)\n",
    "  contents = re.sub(\"\\.\", \". \", contents)\n",
    "  contents = re.sub(\"\\)\", \") \", contents)\n",
    "\n",
    "  # separates words\n",
    "  contents = re.sub(r\"([a-z])([A-Z])\", r\"\\1 \\2\", contents)\n",
    "\n",
    "  # # if need list\n",
    "  # contents_list = contents.split(' || ')\n",
    "\n",
    "  # remove symbols\n",
    "  contents = re.sub(r\"[^a-zA-Z0-9]\", \" \", contents)\n",
    "\n",
    "  # # lowercase\n",
    "  contents = contents.lower()\n",
    "\n",
    "  #remove extra spaces\n",
    "  contents = re.sub(\"\\s+\", \" \", contents)\n",
    "\n",
    "  #from where\n",
    "  df.loc[index, 'source'] = \"manual\"\n",
    "\n",
    "  # add contents to dataframe\n",
    "  df.loc[index, 'contents'] = contents\n",
    "\n",
    "  return #print(\"Done.\")"
   ]
  }
 ],
 "metadata": {
  "kernelspec": {
   "display_name": "index",
   "language": "python",
   "name": "python3"
  },
  "language_info": {
   "codemirror_mode": {
    "name": "ipython",
    "version": 3
   },
   "file_extension": ".py",
   "mimetype": "text/x-python",
   "name": "python",
   "nbconvert_exporter": "python",
   "pygments_lexer": "ipython3",
   "version": "3.9.16"
  },
  "orig_nbformat": 4
 },
 "nbformat": 4,
 "nbformat_minor": 2
}
